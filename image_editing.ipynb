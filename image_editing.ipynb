{
 "cells": [
  {
   "cell_type": "code",
   "execution_count": 1,
   "id": "eb0e5ede",
   "metadata": {},
   "outputs": [
    {
     "name": "stdout",
     "output_type": "stream",
     "text": [
      "Hello world\n"
     ]
    }
   ],
   "source": [
    "print(\"Hello world\")"
   ]
  },
  {
   "cell_type": "code",
   "execution_count": 2,
   "id": "a4151fb0",
   "metadata": {},
   "outputs": [],
   "source": [
    "from PIL import Image"
   ]
  },
  {
   "cell_type": "code",
   "execution_count": 5,
   "id": "388ae986",
   "metadata": {
    "scrolled": true
   },
   "outputs": [
    {
     "name": "stdout",
     "output_type": "stream",
     "text": [
      "(700, 470)\n",
      "c:/python/image2.jpg\n",
      "JPEG\n",
      "JPEG (ISO 10918)\n"
     ]
    }
   ],
   "source": [
    "image=Image.open(\"c:/python/image2.jpg\")\n",
    "#create a new image from scratch\n",
    "image_blank=Image.new('RGBA', (800,600))\n",
    "\n",
    "#image information\n",
    "print(image.size)\n",
    "print(image.filename)\n",
    "print(image.format)\n",
    "print(image.format_description)"
   ]
  },
  {
   "cell_type": "code",
   "execution_count": 11,
   "id": "b377e238",
   "metadata": {},
   "outputs": [],
   "source": [
    "image=Image.open(\"c:/python/image2.jpg\")\n",
    "#rotate the image\n",
    "image_rotate=image.rotate(60, expand=True, fillcolor=(60,20,60))\n",
    "#display\n",
    "image_rotate.show()"
   ]
  },
  {
   "cell_type": "code",
   "execution_count": null,
   "id": "ea8b5d60",
   "metadata": {},
   "outputs": [],
   "source": []
  }
 ],
 "metadata": {
  "kernelspec": {
   "display_name": "Python 3 (ipykernel)",
   "language": "python",
   "name": "python3"
  },
  "language_info": {
   "codemirror_mode": {
    "name": "ipython",
    "version": 3
   },
   "file_extension": ".py",
   "mimetype": "text/x-python",
   "name": "python",
   "nbconvert_exporter": "python",
   "pygments_lexer": "ipython3",
   "version": "3.10.7"
  }
 },
 "nbformat": 4,
 "nbformat_minor": 5
}
